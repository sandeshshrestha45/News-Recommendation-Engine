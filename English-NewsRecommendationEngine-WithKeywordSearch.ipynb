{
 "cells": [
  {
   "cell_type": "markdown",
   "metadata": {},
   "source": [
    "## Building a Content Based News Recommendation System\n"
   ]
  },
  {
   "cell_type": "code",
   "execution_count": 1,
   "metadata": {},
   "outputs": [],
   "source": [
    "import pandas as pd\n",
    "import numpy as np"
   ]
  },
  {
   "cell_type": "code",
   "execution_count": 2,
   "metadata": {},
   "outputs": [],
   "source": [
    "news = pd.read_excel(\"news-english.xlsx\")"
   ]
  },
  {
   "cell_type": "code",
   "execution_count": 3,
   "metadata": {},
   "outputs": [
    {
     "name": "stderr",
     "output_type": "stream",
     "text": [
      "C:\\Users\\User\\anaconda3\\lib\\site-packages\\ipykernel_launcher.py:2: FutureWarning: Passing a negative integer is deprecated in version 1.0 and will not be supported in future version. Instead, use None to not limit the column width.\n",
      "  \n"
     ]
    }
   ],
   "source": [
    "pd.set_option('display.max_rows',None)\n",
    "pd.set_option('display.max_colwidth', -1) #display complete(non-truncated) content inside a cell"
   ]
  },
  {
   "cell_type": "code",
   "execution_count": 4,
   "metadata": {},
   "outputs": [
    {
     "data": {
      "text/html": [
       "<div>\n",
       "<style scoped>\n",
       "    .dataframe tbody tr th:only-of-type {\n",
       "        vertical-align: middle;\n",
       "    }\n",
       "\n",
       "    .dataframe tbody tr th {\n",
       "        vertical-align: top;\n",
       "    }\n",
       "\n",
       "    .dataframe thead th {\n",
       "        text-align: right;\n",
       "    }\n",
       "</style>\n",
       "<table border=\"1\" class=\"dataframe\">\n",
       "  <thead>\n",
       "    <tr style=\"text-align: right;\">\n",
       "      <th></th>\n",
       "      <th>Titles</th>\n",
       "      <th>Links</th>\n",
       "    </tr>\n",
       "  </thead>\n",
       "  <tbody>\n",
       "    <tr>\n",
       "      <th>0</th>\n",
       "      <td>Gold price hits fresh record high, crossing the six-digit mark in the domestic market</td>\n",
       "      <td>https://kathmandupost.com/money/2020/08/05/gold-price-hits-fresh-record-high-crossing-the-six-digit-mark-in-the-domestic-market</td>\n",
       "    </tr>\n",
       "    <tr>\n",
       "      <th>1</th>\n",
       "      <td>Nepal may see 28.7 percent contraction in remittance in 2020, highest in the developing Asia, ADB says</td>\n",
       "      <td>https://kathmandupost.com/money/2020/08/04/nepal-may-see-28-7-percent-contraction-in-remittance-in-2020-highest-in-the-developing-asia-adb-says</td>\n",
       "    </tr>\n",
       "    <tr>\n",
       "      <th>2</th>\n",
       "      <td>Sugar shortage hits Valley as festival season nears</td>\n",
       "      <td>https://kathmandupost.com/money/2020/08/03/sugar-shortage-hits-valley-as-festival-season-nears</td>\n",
       "    </tr>\n",
       "    <tr>\n",
       "      <th>3</th>\n",
       "      <td>Nepal received less than one third of committed foreign loans last fiscal year</td>\n",
       "      <td>https://kathmandupost.com/money/2020/08/03/nepal-received-less-than-one-third-of-committed-foreign-loans-last-fiscal-year</td>\n",
       "    </tr>\n",
       "    <tr>\n",
       "      <th>4</th>\n",
       "      <td>Book imports at a trickle as issues remain unresolved</td>\n",
       "      <td>https://kathmandupost.com/money/2020/08/03/book-imports-at-a-trickle-as-issues-remain-unresolved</td>\n",
       "    </tr>\n",
       "  </tbody>\n",
       "</table>\n",
       "</div>"
      ],
      "text/plain": [
       "                                                                                                   Titles  \\\n",
       "0  Gold price hits fresh record high, crossing the six-digit mark in the domestic market                    \n",
       "1  Nepal may see 28.7 percent contraction in remittance in 2020, highest in the developing Asia, ADB says   \n",
       "2  Sugar shortage hits Valley as festival season nears                                                      \n",
       "3  Nepal received less than one third of committed foreign loans last fiscal year                           \n",
       "4  Book imports at a trickle as issues remain unresolved                                                    \n",
       "\n",
       "                                                                                                                                             Links  \n",
       "0  https://kathmandupost.com/money/2020/08/05/gold-price-hits-fresh-record-high-crossing-the-six-digit-mark-in-the-domestic-market                  \n",
       "1  https://kathmandupost.com/money/2020/08/04/nepal-may-see-28-7-percent-contraction-in-remittance-in-2020-highest-in-the-developing-asia-adb-says  \n",
       "2  https://kathmandupost.com/money/2020/08/03/sugar-shortage-hits-valley-as-festival-season-nears                                                   \n",
       "3  https://kathmandupost.com/money/2020/08/03/nepal-received-less-than-one-third-of-committed-foreign-loans-last-fiscal-year                        \n",
       "4  https://kathmandupost.com/money/2020/08/03/book-imports-at-a-trickle-as-issues-remain-unresolved                                                 "
      ]
     },
     "execution_count": 4,
     "metadata": {},
     "output_type": "execute_result"
    }
   ],
   "source": [
    "news.head()"
   ]
  },
  {
   "cell_type": "code",
   "execution_count": 5,
   "metadata": {},
   "outputs": [
    {
     "name": "stdout",
     "output_type": "stream",
     "text": [
      "News: (128, 2)\n"
     ]
    }
   ],
   "source": [
    "print(\"News:\",news.shape)"
   ]
  },
  {
   "cell_type": "code",
   "execution_count": 6,
   "metadata": {},
   "outputs": [
    {
     "name": "stdout",
     "output_type": "stream",
     "text": [
      "<class 'pandas.core.frame.DataFrame'>\n",
      "RangeIndex: 128 entries, 0 to 127\n",
      "Data columns (total 2 columns):\n",
      " #   Column  Non-Null Count  Dtype \n",
      "---  ------  --------------  ----- \n",
      " 0   Titles  128 non-null    object\n",
      " 1   Links   128 non-null    object\n",
      "dtypes: object(2)\n",
      "memory usage: 2.1+ KB\n"
     ]
    }
   ],
   "source": [
    "news.info()"
   ]
  },
  {
   "cell_type": "markdown",
   "metadata": {},
   "source": [
    "### Content Based News Recommendation System\n",
    "\n",
    "Now lets make a recommendations based on the news' titles given in the Titles column. So if our user gives us a news title, the goal is to recommend news that share similar titles."
   ]
  },
  {
   "cell_type": "code",
   "execution_count": 7,
   "metadata": {},
   "outputs": [],
   "source": [
    "news['Titles']=news['Titles'].str.strip()"
   ]
  },
  {
   "cell_type": "code",
   "execution_count": 8,
   "metadata": {},
   "outputs": [
    {
     "data": {
      "text/plain": [
       "0    Gold price hits fresh record high, crossing the six-digit mark in the domestic market\n",
       "Name: Titles, dtype: object"
      ]
     },
     "execution_count": 8,
     "metadata": {},
     "output_type": "execute_result"
    }
   ],
   "source": [
    "news.head(1)['Titles']"
   ]
  },
  {
   "cell_type": "code",
   "execution_count": 9,
   "metadata": {},
   "outputs": [],
   "source": [
    "from sklearn.feature_extraction.text import TfidfVectorizer\n",
    "\n",
    "\n",
    "tfv = TfidfVectorizer(min_df=3,  max_features=None, \n",
    "            strip_accents='unicode', analyzer='word',token_pattern=r'\\w{1,}',\n",
    "            ngram_range=(1, 3),\n",
    "            stop_words = 'english')\n",
    "\n",
    "# Filling NaNs with empty string\n",
    "news['Titles'] = news['Titles'].fillna('')"
   ]
  },
  {
   "cell_type": "code",
   "execution_count": 10,
   "metadata": {},
   "outputs": [],
   "source": [
    "# Fitting the TF-IDF on the 'Titles' text\n",
    "tfv_matrix = tfv.fit_transform(news['Titles'])"
   ]
  },
  {
   "cell_type": "code",
   "execution_count": 11,
   "metadata": {},
   "outputs": [
    {
     "data": {
      "text/plain": [
       "<128x78 sparse matrix of type '<class 'numpy.float64'>'\n",
       "\twith 357 stored elements in Compressed Sparse Row format>"
      ]
     },
     "execution_count": 11,
     "metadata": {},
     "output_type": "execute_result"
    }
   ],
   "source": [
    "tfv_matrix"
   ]
  },
  {
   "cell_type": "code",
   "execution_count": 12,
   "metadata": {},
   "outputs": [
    {
     "data": {
      "text/plain": [
       "(128, 78)"
      ]
     },
     "execution_count": 12,
     "metadata": {},
     "output_type": "execute_result"
    }
   ],
   "source": [
    "tfv_matrix.shape"
   ]
  },
  {
   "cell_type": "code",
   "execution_count": 13,
   "metadata": {},
   "outputs": [],
   "source": [
    "from sklearn.metrics.pairwise import sigmoid_kernel\n",
    "\n",
    "# Compute the sigmoid kernel\n",
    "sig = sigmoid_kernel(tfv_matrix, tfv_matrix)"
   ]
  },
  {
   "cell_type": "code",
   "execution_count": 14,
   "metadata": {},
   "outputs": [
    {
     "data": {
      "text/plain": [
       "array([0.76692609, 0.76159416, 0.76255778, 0.76159416, 0.76159416,\n",
       "       0.76159416, 0.76159416, 0.76402222, 0.76159416, 0.76159416,\n",
       "       0.76159416, 0.76159416, 0.76159416, 0.76159416, 0.76159416,\n",
       "       0.76159416, 0.76159416, 0.76159416, 0.76159416, 0.76159416,\n",
       "       0.76159416, 0.7640468 , 0.76159416, 0.76159416, 0.76159416,\n",
       "       0.76311519, 0.76159416, 0.76159416, 0.76159416, 0.76159416,\n",
       "       0.76159416, 0.76159416, 0.76159416, 0.76159416, 0.7628959 ,\n",
       "       0.76254108, 0.76159416, 0.76159416, 0.76159416, 0.76159416,\n",
       "       0.76159416, 0.76410979, 0.76159416, 0.76159416, 0.76297059,\n",
       "       0.76301098, 0.76159416, 0.76159416, 0.76159416, 0.76159416,\n",
       "       0.76159416, 0.76159416, 0.76159416, 0.76159416, 0.76159416,\n",
       "       0.76338822, 0.76159416, 0.76159416, 0.76159416, 0.76159416,\n",
       "       0.76159416, 0.76322848, 0.76159416, 0.76159416, 0.76496007,\n",
       "       0.76159416, 0.76159416, 0.76159416, 0.76159416, 0.76159416,\n",
       "       0.76159416, 0.76419414, 0.76159416, 0.76159416, 0.76159416,\n",
       "       0.76159416, 0.76159416, 0.76159416, 0.76159416, 0.76201659,\n",
       "       0.76202603, 0.76226085, 0.76159416, 0.76159416, 0.76159416,\n",
       "       0.76159416, 0.76159416, 0.76159416, 0.76159416, 0.76159416,\n",
       "       0.76159416, 0.76159416, 0.76159416, 0.76159416, 0.76159416,\n",
       "       0.76159416, 0.76159416, 0.76159416, 0.76372293, 0.76159416,\n",
       "       0.76159416, 0.76427785, 0.76159416, 0.76159416, 0.76159416,\n",
       "       0.76159416, 0.76367404, 0.76159416, 0.76159416, 0.76159416,\n",
       "       0.76159416, 0.76254108, 0.76159416, 0.76159416, 0.76277157,\n",
       "       0.76159416, 0.76379029, 0.76159416, 0.76159416, 0.76272956,\n",
       "       0.76159416, 0.76159416, 0.76233532, 0.76159416, 0.76159416,\n",
       "       0.76159416, 0.76159416, 0.76159416])"
      ]
     },
     "execution_count": 14,
     "metadata": {},
     "output_type": "execute_result"
    }
   ],
   "source": [
    "sig[0]"
   ]
  },
  {
   "cell_type": "code",
   "execution_count": 15,
   "metadata": {},
   "outputs": [],
   "source": [
    "# Reverse mapping of indices and news titles\n",
    "indices = pd.Series(news.index, index=news['Titles']).drop_duplicates()"
   ]
  },
  {
   "cell_type": "code",
   "execution_count": 16,
   "metadata": {
    "scrolled": true
   },
   "outputs": [
    {
     "data": {
      "text/plain": [
       "Titles\n",
       "Gold price hits fresh record high, crossing the six-digit mark in the domestic market                     0  \n",
       "Nepal may see 28.7 percent contraction in remittance in 2020, highest in the developing Asia, ADB says    1  \n",
       "Sugar shortage hits Valley as festival season nears                                                       2  \n",
       "Nepal received less than one third of committed foreign loans last fiscal year                            3  \n",
       "Book imports at a trickle as issues remain unresolved                                                     4  \n",
       "Over 70,000 youth entrepreneurs to benefit from reduced interest rate on loans                            5  \n",
       "Already struggling to meet targets, Nepal’s footwear export numbers look at an uncertain future           6  \n",
       "As gold price soars to six-digit figure, sales plummet                                                    7  \n",
       "Nepal-made clothing brands were enjoying a great run and then the pandemic hit                            8  \n",
       "Wendy Werner: The IFC is looking to scale up investment in Nepal                                          9  \n",
       "Jungle resorts in Chitwan to reopen today amid strict safety protocols                                    10 \n",
       "Firms are upbeat about getting credit under refinance facility                                            11 \n",
       "Tea growers set to reap virus bonanza as prices soar amid lower production                                12 \n",
       "Government defends licences issued to firms engaged in ‘networking business’                              13 \n",
       "Nepal’s readymade garment sector faces Rs 1.25 billion hit as foreign buyers cancel orders                14 \n",
       "Bhat Bhateni Supermarket fined Rs 300,000 for selling expired bottled water to a government agency        15 \n",
       "Vegetable prices rise sharply in the Valley as Tarai floods slash supply                                  16 \n",
       "Electricity going to waste for lack of power lines, auditor general says                                  17 \n",
       "Small and medium-sized enterprises are missing out on e-commerce boom                                     18 \n",
       "Hopeful internet firms need to have minimum capital of Rs 40 million                                      19 \n",
       "India widens China app ban to cover more from Xiaomi, Baidu                                               20 \n",
       "Gold price rings ‘historic’ all time high; set at record 101400/tola on Wednesday                         21 \n",
       "1,218 Nepalis repatriated via seven flights                                                               22 \n",
       "DoED revokes licences of 129 hydro projects of 3,330 MW                                                   23 \n",
       "Land compensation for Budhigandaki hydel at almost Rs 34 billion so far                                   24 \n",
       "August 17 resumption of domestic flights in doubt                                                         25 \n",
       "Sushil Bhatta appointed IBN CEO                                                                           26 \n",
       "82 per cent physical progress achieved in NEA projects amid COVID-19 pandemic                             27 \n",
       "Industries operating at only 60pc capacity                                                                28 \n",
       "Airlines seek permission to resume flights                                                                29 \n",
       "1,184 passengers, 18 bodies repatriated                                                                   30 \n",
       "Paddy plantation completed in country                                                                     31 \n",
       "Manakamana Cable to pay 100pc salary of lockdown period                                                   32 \n",
       "NRB indirectly pressuring BFIs for merger                                                                 33 \n",
       "Bullion price continues to surge                                                                          34 \n",
       "Share market investors wait for Monetary Policy implementation                                            35 \n",
       "Nepal Investment Bank bags ‘Award of Recognition’                                                         36 \n",
       "Eight repatriation flights bring 1,207 Nepalis home                                                       37 \n",
       "MoALD starts process of drafting Agriculture Act                                                          38 \n",
       "Nepal Airlines Corporation grounds all its Chinese aircraft                                               39 \n",
       "â€˜Halt issuing licence to networking businessesâ€™                                                       40 \n",
       "Gold price soars to a fresh all-time high in Nepal, nears 100k                                            41 \n",
       "TikTok owner ByteDance considers listing China business in Hong Kong or Shanghai: sources                 42 \n",
       "Chinese-backed hackers targeted COVID-19 vaccine firm Moderna                                             43 \n",
       "Gold price nears Rs 100,000 per tola                                                                      44 \n",
       "Gold import at five-year low last FY                                                                      45 \n",
       "Valley industries that fail to renew registration by August 23 to face music                              46 \n",
       "Remuneration dispute between employers, workers resolved                                                  47 \n",
       "Locusts move towards northern part of country                                                             48 \n",
       "285 Nepalis stranded in Singapore, Malaysia return home                                                   49 \n",
       "193 local bodies yet to present budget for 2020-21                                                        50 \n",
       "Air travel not expected to recover until 2024                                                             51 \n",
       "Government finalises investment modality of Bheri-Babai diversion project                                 52 \n",
       "Global airlines less hopeful on COVID-19 recovery                                                         53 \n",
       "Businesses laid off a quarter of employees, trimmed 18 percent pay during the lockdown, survey says       54 \n",
       "Gold price hits Rs 102,500; silver price reaches Rs 1,345                                                 55 \n",
       "Ncell transforms into a public company                                                                    56 \n",
       "1,313 Nepalis repatriated                                                                                 57 \n",
       "Aviation ministry preparing protocols to resume international flights                                     58 \n",
       "61 per cent of industries totally shut during the lockdown                                                59 \n",
       "Coronavirus Insurance Programme formally launched                                                         60 \n",
       "The festival season gets underway with high prices, low footfall and weak price monitoring                61 \n",
       "1,466 Nepalis brought home                                                                                62 \n",
       "6,000 migrants apply for free rescue from abroad                                                          63 \n",
       "Gold hits fresh record                                                                                    64 \n",
       "FNCCI forms committee to resolve disputes                                                                 65 \n",
       "Shopkeepers at Bhrikutimandap rue lack of business despite easing of lockdown                             66 \n",
       "Six repatriation flights conducted                                                                        67 \n",
       "Silversmiths looking for alternative jobs                                                                 68 \n",
       "Start-ups see no respite in sight as Covid-19 makes survival a challenge                                  69 \n",
       "Share investors following rumours hardest hit                                                             70 \n",
       "Precious metals set new record price in domestic market                                                   71 \n",
       "Kenya’s famed wildebeest migration begins without foreign tourist crowds                                  72 \n",
       "‘Save street food’                                                                                        73 \n",
       "1,001 Nepalis return home via six flights                                                                 74 \n",
       "DoCSCP to halt registration of new companies                                                              75 \n",
       "Central bank directs BFIs to operate with limited employees                                               76 \n",
       "Donors pledge 253 mln euros in emergency aid for Lebanon after blast                                      77 \n",
       "Nepal Tourism Board scales back budget by 75 percent as revenue streams disappear                         78 \n",
       "Maximum retail price set for bottled water not to apply to premium brands                                 79 \n",
       "Government sets maximum retail price of bottled water                                                     80 \n",
       "Nepal lost Rs 7 billion in exports of high value products as virus strangles foreign trade                81 \n",
       "NTB slashes budget for current fiscal                                                                     82 \n",
       "Public transportation sector most affected by lockdown: Transport Entrepreneurs                           83 \n",
       "849 passengers arrive on last day of fourth phase of repatriation                                         84 \n",
       "Cases of coronavirus rising among bank staff                                                              85 \n",
       "Hyatt Regency Kathmandu awarded ‘Traveler’s Choice Award 2020’                                            86 \n",
       "Nepal Telecom sees profit plunge as people use apps to make phone calls                                   87 \n",
       "Government stops issuing permits for conducting direct sales of goods                                     88 \n",
       "Bike sellers struggle to fulfil swelling demand amid the Covid-19 pandemic                                89 \n",
       "‘We plan to make Viber the No 1 messaging app in Nepal’                                                   90 \n",
       "Himalaya Airlines unveils fifth-phase repatriation flights details                                        91 \n",
       "Pokhara-based Shangri~La Village Resort receives awards for exemplary service                             92 \n",
       "Jobs of nearly 50,000 workers associated with party venues, catering services at risk                     93 \n",
       "Over Rs 2.22bn budget frozen in Lamjung                                                                   94 \n",
       "Civil Aviation Ministry preparing for fifth phase of repatriation                                         95 \n",
       "Nepal Airline Operators threaten to protest if flights not resumed from Sept 1                            96 \n",
       "Postal Highway Project: Construction work comes to halt with non-payment issues in Birgunj                97 \n",
       "Gold price drops below the 100k mark, silver also drops value                                             98 \n",
       "Hyatt Regency Kathmandu bags 2020 Travellers’ Choice Award                                                99 \n",
       "Debate on inviting strategic partnership in NT resurfaces                                                 100\n",
       "Gold price declines, silver hits new record                                                               101\n",
       "Nepal Tourism Board slashes budget for current fiscal                                                     102\n",
       "Government sets quality standards for four traditional Nepali snacks and vegetable oil                    103\n",
       "Officials won’t force taxpayers to clear their dues just yet                                              104\n",
       "Beauty parlour owners fear uncertain future as strict restrictions are reimposed                          105\n",
       "Bullion price edges down slightly after record streak                                                     106\n",
       "COVID weighs on share investors’ sentiment                                                                107\n",
       "Nepal Airlines gives official send-off to the pilots of its Chinese aircraft                              108\n",
       "Budget earmarked for interest rate subsidies remains unspent                                              109\n",
       "Landslide damage holds up Kali Gandaki transmission line project                                          110\n",
       "Apple reaches $2 trillion market value as tech fortunes soar                                              111\n",
       "Nepal Investment Bank Ltd inks pact with WireBarley Corp                                                  112\n",
       "Government collects Rs 61bn revenue in first month of current fiscal                                      113\n",
       "Substandard milk products being sold in the market                                                        114\n",
       "MoCTCA seeks proposals from provincial, local governments                                                 115\n",
       "Gold Price bounces back to 100k plus mark, reaches Rs 100,400                                             116\n",
       "Nepal Tourism Board to begin job retention programme from Kaski district                                  117\n",
       "Fifth phase of repatriation flights halted after first day itself until further notice                    118\n",
       "Gold price drops to Rs 98,200/tola; silver is at Rs 1,315                                                 119\n",
       "DDC to start production outside valley                                                                    120\n",
       "All three levels of govt must invest in tourism infrastructure                                            121\n",
       "Japan’s economy shrinks at record rate, slammed by pandemic                                               122\n",
       "17 diners receive 'very good' rating after food hygiene inspections                                       123\n",
       "Nepali migrant workers slam ‘irresponsible’ govt decision to halt repatriation                            124\n",
       "Grocery shoppers scramble due to small window of time                                                     125\n",
       "Hotels, room charges for returnees’ quarantine                                                            126\n",
       "Sastodeal partners with Flipkart to bring Made-in-India products to Nepal                                 127\n",
       "dtype: int64"
      ]
     },
     "execution_count": 16,
     "metadata": {},
     "output_type": "execute_result"
    }
   ],
   "source": [
    "indices"
   ]
  },
  {
   "cell_type": "code",
   "execution_count": 17,
   "metadata": {},
   "outputs": [
    {
     "data": {
      "text/plain": [
       "45"
      ]
     },
     "execution_count": 17,
     "metadata": {},
     "output_type": "execute_result"
    }
   ],
   "source": [
    "indices['Gold import at five-year low last FY']"
   ]
  },
  {
   "cell_type": "code",
   "execution_count": 18,
   "metadata": {},
   "outputs": [
    {
     "data": {
      "text/plain": [
       "array([0.76301098, 0.76159416, 0.76159416, 0.76159416, 0.76159416,\n",
       "       0.76159416, 0.76159416, 0.76471241, 0.76159416, 0.76159416,\n",
       "       0.76159416, 0.76159416, 0.76159416, 0.76159416, 0.76159416,\n",
       "       0.76159416, 0.76159416, 0.76159416, 0.76159416, 0.76159416,\n",
       "       0.76159416, 0.76320267, 0.76159416, 0.76159416, 0.76159416,\n",
       "       0.76159416, 0.76159416, 0.76159416, 0.76159416, 0.76159416,\n",
       "       0.76159416, 0.76159416, 0.76159416, 0.76159416, 0.76159416,\n",
       "       0.76159416, 0.76159416, 0.76159416, 0.76159416, 0.76159416,\n",
       "       0.76159416, 0.76310675, 0.76159416, 0.76159416, 0.76336281,\n",
       "       0.76692609, 0.76159416, 0.76159416, 0.76159416, 0.76159416,\n",
       "       0.76159416, 0.76159416, 0.76159416, 0.76159416, 0.76159416,\n",
       "       0.76287459, 0.76159416, 0.76159416, 0.76159416, 0.76159416,\n",
       "       0.76159416, 0.76159416, 0.76159416, 0.76159416, 0.76384328,\n",
       "       0.76159416, 0.76159416, 0.76159416, 0.76159416, 0.76159416,\n",
       "       0.76159416, 0.76159416, 0.76159416, 0.76159416, 0.76159416,\n",
       "       0.76159416, 0.76159416, 0.76159416, 0.76159416, 0.76159416,\n",
       "       0.76159416, 0.76159416, 0.76159416, 0.76159416, 0.76159416,\n",
       "       0.76159416, 0.76159416, 0.76159416, 0.76159416, 0.76159416,\n",
       "       0.76159416, 0.76159416, 0.76159416, 0.76159416, 0.76159416,\n",
       "       0.76159416, 0.76159416, 0.76159416, 0.76327967, 0.76159416,\n",
       "       0.76159416, 0.76335446, 0.76159416, 0.76159416, 0.76159416,\n",
       "       0.76159416, 0.76159416, 0.76159416, 0.76159416, 0.76159416,\n",
       "       0.76159416, 0.76159416, 0.76159416, 0.76159416, 0.76159416,\n",
       "       0.76159416, 0.76333304, 0.76159416, 0.76159416, 0.76305328,\n",
       "       0.76159416, 0.76159416, 0.76159416, 0.76159416, 0.76159416,\n",
       "       0.76159416, 0.76159416, 0.76159416])"
      ]
     },
     "execution_count": 18,
     "metadata": {},
     "output_type": "execute_result"
    }
   ],
   "source": [
    "sig[45]"
   ]
  },
  {
   "cell_type": "markdown",
   "metadata": {},
   "source": [
    "# Insert Keyword"
   ]
  },
  {
   "cell_type": "code",
   "execution_count": 19,
   "metadata": {},
   "outputs": [
    {
     "name": "stdout",
     "output_type": "stream",
     "text": [
      "enter headline keywordgold\n",
      "gold\n"
     ]
    }
   ],
   "source": [
    "headline_keyword=input(\"enter headline keyword\")\n",
    "\n",
    "print(headline_keyword)"
   ]
  },
  {
   "cell_type": "code",
   "execution_count": 20,
   "metadata": {},
   "outputs": [],
   "source": [
    "import re\n",
    "news_headline=news[news['Titles'].str.contains(headline_keyword, na=False, flags=re.IGNORECASE, regex=True)]"
   ]
  },
  {
   "cell_type": "code",
   "execution_count": 21,
   "metadata": {},
   "outputs": [
    {
     "data": {
      "text/html": [
       "<div>\n",
       "<style scoped>\n",
       "    .dataframe tbody tr th:only-of-type {\n",
       "        vertical-align: middle;\n",
       "    }\n",
       "\n",
       "    .dataframe tbody tr th {\n",
       "        vertical-align: top;\n",
       "    }\n",
       "\n",
       "    .dataframe thead th {\n",
       "        text-align: right;\n",
       "    }\n",
       "</style>\n",
       "<table border=\"1\" class=\"dataframe\">\n",
       "  <thead>\n",
       "    <tr style=\"text-align: right;\">\n",
       "      <th></th>\n",
       "      <th>Titles</th>\n",
       "      <th>Links</th>\n",
       "    </tr>\n",
       "  </thead>\n",
       "  <tbody>\n",
       "    <tr>\n",
       "      <th>0</th>\n",
       "      <td>Gold price hits fresh record high, crossing the six-digit mark in the domestic market</td>\n",
       "      <td>https://kathmandupost.com/money/2020/08/05/gold-price-hits-fresh-record-high-crossing-the-six-digit-mark-in-the-domestic-market</td>\n",
       "    </tr>\n",
       "    <tr>\n",
       "      <th>7</th>\n",
       "      <td>As gold price soars to six-digit figure, sales plummet</td>\n",
       "      <td>https://kathmandupost.com/money/2020/08/01/as-gold-price-soars-to-six-digit-figure-sales-plummet</td>\n",
       "    </tr>\n",
       "    <tr>\n",
       "      <th>21</th>\n",
       "      <td>Gold price rings ‘historic’ all time high; set at record 101400/tola on Wednesday</td>\n",
       "      <td>https://thehimalayantimes.com/business/gold-price-rings-historic-all-time-high-set-at-record-101400-tola-on-wednesday/</td>\n",
       "    </tr>\n",
       "    <tr>\n",
       "      <th>41</th>\n",
       "      <td>Gold price soars to a fresh all-time high in Nepal, nears 100k</td>\n",
       "      <td>https://thehimalayantimes.com/business/gold-price-approximates-to-100k-silver-price-surges-too/</td>\n",
       "    </tr>\n",
       "    <tr>\n",
       "      <th>44</th>\n",
       "      <td>Gold price nears Rs 100,000 per tola</td>\n",
       "      <td>https://thehimalayantimes.com/business/gold-price-nears-rs-100000-per-tola/</td>\n",
       "    </tr>\n",
       "    <tr>\n",
       "      <th>45</th>\n",
       "      <td>Gold import at five-year low last FY</td>\n",
       "      <td>https://thehimalayantimes.com/business/gold-import-at-five-year-low-last-fy/</td>\n",
       "    </tr>\n",
       "    <tr>\n",
       "      <th>55</th>\n",
       "      <td>Gold price hits Rs 102,500; silver price reaches Rs 1,345</td>\n",
       "      <td>https://thehimalayantimes.com/business/gold-price-hits-rs-102500-silver-price-reaches-rs-1345/</td>\n",
       "    </tr>\n",
       "    <tr>\n",
       "      <th>64</th>\n",
       "      <td>Gold hits fresh record</td>\n",
       "      <td>https://thehimalayantimes.com/business/gold-hits-fresh-record/</td>\n",
       "    </tr>\n",
       "    <tr>\n",
       "      <th>98</th>\n",
       "      <td>Gold price drops below the 100k mark, silver also drops value</td>\n",
       "      <td>https://thehimalayantimes.com/business/gold-price-drops-below-the-100k-mark-silver-also-drops-value/</td>\n",
       "    </tr>\n",
       "    <tr>\n",
       "      <th>101</th>\n",
       "      <td>Gold price declines, silver hits new record</td>\n",
       "      <td>https://thehimalayantimes.com/business/gold-price-declines-silver-hits-new-record/</td>\n",
       "    </tr>\n",
       "    <tr>\n",
       "      <th>116</th>\n",
       "      <td>Gold Price bounces back to 100k plus mark, reaches Rs 100,400</td>\n",
       "      <td>https://thehimalayantimes.com/business/gold-price-bounces-back-to-100k-plus-mark-reaches-rs-100400/</td>\n",
       "    </tr>\n",
       "    <tr>\n",
       "      <th>119</th>\n",
       "      <td>Gold price drops to Rs 98,200/tola; silver is at Rs 1,315</td>\n",
       "      <td>https://thehimalayantimes.com/business/gold-price-drops-to-rs-98200-tola-silver-is-at-rs-1315/</td>\n",
       "    </tr>\n",
       "  </tbody>\n",
       "</table>\n",
       "</div>"
      ],
      "text/plain": [
       "                                                                                    Titles  \\\n",
       "0    Gold price hits fresh record high, crossing the six-digit mark in the domestic market   \n",
       "7    As gold price soars to six-digit figure, sales plummet                                  \n",
       "21   Gold price rings ‘historic’ all time high; set at record 101400/tola on Wednesday       \n",
       "41   Gold price soars to a fresh all-time high in Nepal, nears 100k                          \n",
       "44   Gold price nears Rs 100,000 per tola                                                    \n",
       "45   Gold import at five-year low last FY                                                    \n",
       "55   Gold price hits Rs 102,500; silver price reaches Rs 1,345                               \n",
       "64   Gold hits fresh record                                                                  \n",
       "98   Gold price drops below the 100k mark, silver also drops value                           \n",
       "101  Gold price declines, silver hits new record                                             \n",
       "116  Gold Price bounces back to 100k plus mark, reaches Rs 100,400                           \n",
       "119  Gold price drops to Rs 98,200/tola; silver is at Rs 1,315                               \n",
       "\n",
       "                                                                                                                               Links  \n",
       "0    https://kathmandupost.com/money/2020/08/05/gold-price-hits-fresh-record-high-crossing-the-six-digit-mark-in-the-domestic-market  \n",
       "7    https://kathmandupost.com/money/2020/08/01/as-gold-price-soars-to-six-digit-figure-sales-plummet                                 \n",
       "21   https://thehimalayantimes.com/business/gold-price-rings-historic-all-time-high-set-at-record-101400-tola-on-wednesday/           \n",
       "41   https://thehimalayantimes.com/business/gold-price-approximates-to-100k-silver-price-surges-too/                                  \n",
       "44   https://thehimalayantimes.com/business/gold-price-nears-rs-100000-per-tola/                                                      \n",
       "45   https://thehimalayantimes.com/business/gold-import-at-five-year-low-last-fy/                                                     \n",
       "55   https://thehimalayantimes.com/business/gold-price-hits-rs-102500-silver-price-reaches-rs-1345/                                   \n",
       "64   https://thehimalayantimes.com/business/gold-hits-fresh-record/                                                                   \n",
       "98   https://thehimalayantimes.com/business/gold-price-drops-below-the-100k-mark-silver-also-drops-value/                             \n",
       "101  https://thehimalayantimes.com/business/gold-price-declines-silver-hits-new-record/                                               \n",
       "116  https://thehimalayantimes.com/business/gold-price-bounces-back-to-100k-plus-mark-reaches-rs-100400/                              \n",
       "119  https://thehimalayantimes.com/business/gold-price-drops-to-rs-98200-tola-silver-is-at-rs-1315/                                   "
      ]
     },
     "execution_count": 21,
     "metadata": {},
     "output_type": "execute_result"
    }
   ],
   "source": [
    "news_headline"
   ]
  },
  {
   "cell_type": "code",
   "execution_count": 22,
   "metadata": {},
   "outputs": [],
   "source": [
    "def give_rec(title, sig=sig):\n",
    "    # Get the index corresponding to original_title\n",
    "    idx = indices[title]\n",
    "\n",
    "    # Get the pairwsie similarity scores \n",
    "    sig_scores = list(enumerate(sig[idx]))\n",
    "\n",
    "    # Sort the news titles \n",
    "    sig_scores = sorted(sig_scores, key=lambda x: x[1], reverse=True)\n",
    "\n",
    "    # Scores of the 10 most similar news\n",
    "    sig_scores = sig_scores[1:11]\n",
    "\n",
    "    # News title indices\n",
    "    news_indices = [i[0] for i in sig_scores]\n",
    "\n",
    "    # Top 10 most similar news\n",
    "    return news['Titles'].iloc[news_indices],news['Links'].iloc[news_indices]\n",
    "   "
   ]
  },
  {
   "cell_type": "code",
   "execution_count": 24,
   "metadata": {},
   "outputs": [
    {
     "data": {
      "text/plain": [
       "(41     Gold price soars to a fresh all-time high in Nepal, nears 100k                            \n",
       " 7      As gold price soars to six-digit figure, sales plummet                                    \n",
       " 44     Gold price nears Rs 100,000 per tola                                                      \n",
       " 0      Gold price hits fresh record high, crossing the six-digit mark in the domestic market     \n",
       " 106    Bullion price edges down slightly after record streak                                     \n",
       " 101    Gold price declines, silver hits new record                                               \n",
       " 125    Grocery shoppers scramble due to small window of time                                     \n",
       " 119    Gold price drops to Rs 98,200/tola; silver is at Rs 1,315                                 \n",
       " 71     Precious metals set new record price in domestic market                                   \n",
       " 61     The festival season gets underway with high prices, low footfall and weak price monitoring\n",
       " Name: Titles, dtype: object,\n",
       " 41     https://thehimalayantimes.com/business/gold-price-approximates-to-100k-silver-price-surges-too/                                     \n",
       " 7      https://kathmandupost.com/money/2020/08/01/as-gold-price-soars-to-six-digit-figure-sales-plummet                                    \n",
       " 44     https://thehimalayantimes.com/business/gold-price-nears-rs-100000-per-tola/                                                         \n",
       " 0      https://kathmandupost.com/money/2020/08/05/gold-price-hits-fresh-record-high-crossing-the-six-digit-mark-in-the-domestic-market     \n",
       " 106    https://thehimalayantimes.com/business/bullion-price-edges-down-slightly-after-record-streak/                                       \n",
       " 101    https://thehimalayantimes.com/business/gold-price-declines-silver-hits-new-record/                                                  \n",
       " 125    https://kathmandupost.com/money/2020/08/21/grocery-shoppers-scramble-due-to-small-window-of-time                                    \n",
       " 119    https://thehimalayantimes.com/business/gold-price-drops-to-rs-98200-tola-silver-is-at-rs-1315/                                      \n",
       " 71     https://thehimalayantimes.com/business/precious-metals-set-new-record-price-in-domestic-market/                                     \n",
       " 61     https://kathmandupost.com/money/2020/08/06/the-festival-season-gets-underway-with-high-prices-low-footfall-and-weak-price-monitoring\n",
       " Name: Links, dtype: object)"
      ]
     },
     "execution_count": 24,
     "metadata": {},
     "output_type": "execute_result"
    }
   ],
   "source": [
    "# Testing our news recommendation system \n",
    "give_rec('Gold price rings ‘historic’ all time high; set at record 101400/tola on Wednesday')"
   ]
  },
  {
   "cell_type": "code",
   "execution_count": null,
   "metadata": {},
   "outputs": [],
   "source": []
  }
 ],
 "metadata": {
  "kernelspec": {
   "display_name": "Python 3",
   "language": "python",
   "name": "python3"
  },
  "language_info": {
   "codemirror_mode": {
    "name": "ipython",
    "version": 3
   },
   "file_extension": ".py",
   "mimetype": "text/x-python",
   "name": "python",
   "nbconvert_exporter": "python",
   "pygments_lexer": "ipython3",
   "version": "3.7.6"
  }
 },
 "nbformat": 4,
 "nbformat_minor": 2
}
